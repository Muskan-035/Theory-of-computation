{
 "cells": [
  {
   "cell_type": "markdown",
   "metadata": {},
   "source": [
    "write a program for doubly queue implementation"
   ]
  },
  {
   "cell_type": "code",
   "execution_count": null,
   "metadata": {},
   "outputs": [
    {
     "name": "stdout",
     "output_type": "stream",
     "text": [
      "Enter your choice:\n",
      " 0-exit\n",
      " 1-insert\n",
      " 2-delete\n"
     ]
    },
    {
     "name": "stdin",
     "output_type": "stream",
     "text": [
      " 1\n"
     ]
    },
    {
     "name": "stdout",
     "output_type": "stream",
     "text": [
      "Where you want to insert the element:\n",
      "1-front \n",
      "2-rear\n"
     ]
    },
    {
     "name": "stdin",
     "output_type": "stream",
     "text": [
      " 1\n"
     ]
    },
    {
     "name": "stdout",
     "output_type": "stream",
     "text": [
      "Enter element: \n"
     ]
    },
    {
     "name": "stdin",
     "output_type": "stream",
     "text": [
      " 30\n"
     ]
    },
    {
     "name": "stdout",
     "output_type": "stream",
     "text": [
      "['30']\n",
      "Enter your choice: 0-exit 1-insert 2-delete\n"
     ]
    },
    {
     "name": "stdin",
     "output_type": "stream",
     "text": [
      " 1\n"
     ]
    },
    {
     "name": "stdout",
     "output_type": "stream",
     "text": [
      "Where you want to insert the element:\n",
      "1-front \n",
      "2-rear\n"
     ]
    },
    {
     "name": "stdin",
     "output_type": "stream",
     "text": [
      " 2\n"
     ]
    },
    {
     "name": "stdout",
     "output_type": "stream",
     "text": [
      "Enter element: \n"
     ]
    },
    {
     "name": "stdin",
     "output_type": "stream",
     "text": [
      " 50\n"
     ]
    },
    {
     "name": "stdout",
     "output_type": "stream",
     "text": [
      "['30', '50']\n",
      "Enter your choice: 0-exit 1-insert 2-delete\n"
     ]
    },
    {
     "name": "stdin",
     "output_type": "stream",
     "text": [
      " 1\n"
     ]
    },
    {
     "name": "stdout",
     "output_type": "stream",
     "text": [
      "Where you want to insert the element:\n",
      "1-front \n",
      "2-rear\n"
     ]
    },
    {
     "name": "stdin",
     "output_type": "stream",
     "text": [
      " 2\n"
     ]
    },
    {
     "name": "stdout",
     "output_type": "stream",
     "text": [
      "Enter element: \n"
     ]
    },
    {
     "name": "stdin",
     "output_type": "stream",
     "text": [
      " 70\n"
     ]
    },
    {
     "name": "stdout",
     "output_type": "stream",
     "text": [
      "['30', '50', '70']\n",
      "Enter your choice: 0-exit 1-insert 2-delete\n"
     ]
    },
    {
     "name": "stdin",
     "output_type": "stream",
     "text": [
      " 1\n"
     ]
    },
    {
     "name": "stdout",
     "output_type": "stream",
     "text": [
      "Where you want to insert the element:\n",
      "1-front \n",
      "2-rear\n"
     ]
    },
    {
     "name": "stdin",
     "output_type": "stream",
     "text": [
      " 1\n"
     ]
    },
    {
     "name": "stdout",
     "output_type": "stream",
     "text": [
      "Enter element: \n"
     ]
    },
    {
     "name": "stdin",
     "output_type": "stream",
     "text": [
      " 35\n"
     ]
    },
    {
     "name": "stdout",
     "output_type": "stream",
     "text": [
      "['35', '30', '50', '70']\n",
      "Enter your choice: 0-exit 1-insert 2-delete\n"
     ]
    },
    {
     "name": "stdin",
     "output_type": "stream",
     "text": [
      " 2\n"
     ]
    },
    {
     "name": "stdout",
     "output_type": "stream",
     "text": [
      "Enter your choice:1-front 2-rear\n"
     ]
    },
    {
     "name": "stdin",
     "output_type": "stream",
     "text": [
      " 1\n"
     ]
    },
    {
     "name": "stdout",
     "output_type": "stream",
     "text": [
      "['30', '50', '70']\n",
      "Enter your choice: 0-exit 1-insert 2-delete\n"
     ]
    }
   ],
   "source": [
    "class Deque:\n",
    "    def __init__(self):\n",
    "        self.a=[]\n",
    "    def enqueue(self,i,ch):\n",
    "        if (ch==1):\n",
    "            self.a.insert(0,i)\n",
    "            print(self.a)\n",
    "        else:\n",
    "            self.a.append(i)\n",
    "            print(self.a)\n",
    "    def delete(self,ch):\n",
    "        if (len(self.a)==0):\n",
    "            print(\"queue is empty\")\n",
    "        elif (ch==1):\n",
    "            self.a.pop(0)\n",
    "            print(self.a)\n",
    "        else:\n",
    "            self.a.pop(-1)\n",
    "            print(self.a)\n",
    "q=Deque()\n",
    "print(\"Enter your choice:\\n 0-exit\\n 1-insert\\n 2-delete\")\n",
    "ch=int(input())\n",
    "while ch!=0:\n",
    "    if (ch==1):\n",
    "        print(\"Where you want to insert the element:\\n1-front \\n2-rear\")\n",
    "        ch1=int(input())\n",
    "        print(\"Enter element: \")\n",
    "        j=input()\n",
    "        q.enqueue(j,ch1)\n",
    "    else:\n",
    "        print(\"Enter your choice:1-front 2-rear\")\n",
    "        ch2=int(input())\n",
    "        q.delete(ch2)\n",
    "    print(\"Enter your choice: 0-exit 1-insert 2-delete\")\n",
    "    ch=int(input())\n"
   ]
  },
  {
   "cell_type": "code",
   "execution_count": null,
   "metadata": {},
   "outputs": [],
   "source": []
  }
 ],
 "metadata": {
  "kernelspec": {
   "display_name": "Python 3",
   "language": "python",
   "name": "python3"
  },
  "language_info": {
   "codemirror_mode": {
    "name": "ipython",
    "version": 3
   },
   "file_extension": ".py",
   "mimetype": "text/x-python",
   "name": "python",
   "nbconvert_exporter": "python",
   "pygments_lexer": "ipython3",
   "version": "3.7.3"
  }
 },
 "nbformat": 4,
 "nbformat_minor": 4
}
