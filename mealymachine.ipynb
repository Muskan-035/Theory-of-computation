{
 "cells": [
  {
   "cell_type": "markdown",
   "metadata": {},
   "source": [
    "mealy machine that ouput even and odd no. of onces"
   ]
  },
  {
   "cell_type": "code",
   "execution_count": 1,
   "metadata": {},
   "outputs": [],
   "source": [
    "def Mealymachine(str):\n",
    "    dfa = {'q0':{'0':{'output':'even','state':'q0'},'1':{'output':'odd','state':'q1'}},'q1':{'0':{'output':'odd','state':'q1'},'1':{'output':'even','state':'q0'}}}\n",
    "    cs='q0'\n",
    "    for i in str:\n",
    "        co = dfa[cs][i]['output']\n",
    "        cs=dfa[cs][i]['state']\n",
    "\n",
    "    print('current state:'+cs)\n",
    "    print(\"current output:\" +co)\n"
   ]
  },
  {
   "cell_type": "code",
   "execution_count": 2,
   "metadata": {},
   "outputs": [
    {
     "name": "stdout",
     "output_type": "stream",
     "text": [
      "current state:q0\n",
      "current output:even\n"
     ]
    }
   ],
   "source": [
    "Mealymachine(\"10101010\")\n",
    "\n"
   ]
  },
  {
   "cell_type": "code",
   "execution_count": 3,
   "metadata": {},
   "outputs": [
    {
     "name": "stdout",
     "output_type": "stream",
     "text": [
      "current state:q1\n",
      "current output:odd\n"
     ]
    }
   ],
   "source": [
    "Mealymachine(\"0110010\")"
   ]
  },
  {
   "cell_type": "markdown",
   "metadata": {},
   "source": [
    "mealy machine that output even and odd no. of onces method 2"
   ]
  },
  {
   "cell_type": "code",
   "execution_count": 6,
   "metadata": {},
   "outputs": [],
   "source": [
    "def Mealymachine(str):\n",
    "    dfa={'q0':{'0':('even','q0'),'1':('odd','q1')},'q1':{'0':('odd','q1'),'1':('even','q0')}}\n",
    "    cs='q0'\n",
    "    for i in str:\n",
    "        co = dfa[cs][i][0]\n",
    "        cs=dfa[cs][i][1]\n",
    "\n",
    "    print('current state:'+cs)\n",
    "    print(\"current output:\" +co)\n"
   ]
  },
  {
   "cell_type": "code",
   "execution_count": 7,
   "metadata": {},
   "outputs": [
    {
     "name": "stdout",
     "output_type": "stream",
     "text": [
      "current state:q0\n",
      "current output:even\n"
     ]
    }
   ],
   "source": [
    "Mealymachine(\"110101\")"
   ]
  },
  {
   "cell_type": "code",
   "execution_count": 8,
   "metadata": {},
   "outputs": [
    {
     "name": "stdout",
     "output_type": "stream",
     "text": [
      "current state:q0\n",
      "current output:even\n"
     ]
    }
   ],
   "source": [
    "Mealymachine(\"1010\")"
   ]
  },
  {
   "cell_type": "markdown",
   "metadata": {},
   "source": [
    "mealy machine that output even and odd no of onces method 3"
   ]
  },
  {
   "cell_type": "code",
   "execution_count": 9,
   "metadata": {},
   "outputs": [],
   "source": [
    "def Mealymachine(str):\n",
    "    dfa={'q0':{'0':('even','q0'),'1':('odd','q1')},'q1':{'0':('odd','q1'),'1':('even','q0')}}\n",
    "    cs='q0'\n",
    "    for i in str:\n",
    "        co = dfa[cs][i][0]\n",
    "        cs=dfa[cs][i][1]\n",
    "\n",
    "    print('current state:'+cs)\n",
    "    print(\"current output:\" +co)\n"
   ]
  },
  {
   "cell_type": "code",
   "execution_count": 10,
   "metadata": {},
   "outputs": [
    {
     "name": "stdout",
     "output_type": "stream",
     "text": [
      "current state:q0\n",
      "current output:even\n"
     ]
    }
   ],
   "source": [
    "Mealymachine(\"11001100\")"
   ]
  },
  {
   "cell_type": "code",
   "execution_count": 11,
   "metadata": {},
   "outputs": [
    {
     "name": "stdout",
     "output_type": "stream",
     "text": [
      "current state:q1\n",
      "current output:odd\n"
     ]
    }
   ],
   "source": [
    "Mealymachine(\"101010\")"
   ]
  },
  {
   "cell_type": "markdown",
   "metadata": {},
   "source": [
    "mealy machine that output even and odd no of once method 4"
   ]
  },
  {
   "cell_type": "code",
   "execution_count": 2,
   "metadata": {},
   "outputs": [],
   "source": [
    "def Mealymachine(str):\n",
    "    dfa={'q0':{'0':('even','q0'),'1':('odd','q1')},'q1':{'0':('odd','q1'),'1':('even','q0')}}\n",
    "    cs='q0'\n",
    "    for i in str:\n",
    "        co = dfa[cs][i][0]\n",
    "        cs=dfa[cs][i][1]\n",
    "\n",
    "    print('current state:'+cs)\n",
    "    print(\"current output:\" +co)\n"
   ]
  },
  {
   "cell_type": "code",
   "execution_count": 3,
   "metadata": {},
   "outputs": [
    {
     "name": "stdout",
     "output_type": "stream",
     "text": [
      "current state:q0\n",
      "current output:even\n"
     ]
    }
   ],
   "source": [
    "Mealymachine(\"10101100\")"
   ]
  },
  {
   "cell_type": "code",
   "execution_count": 4,
   "metadata": {},
   "outputs": [
    {
     "name": "stdout",
     "output_type": "stream",
     "text": [
      "current state:q1\n",
      "current output:odd\n"
     ]
    }
   ],
   "source": [
    "Mealymachine(\"1100101010\")"
   ]
  },
  {
   "cell_type": "markdown",
   "metadata": {},
   "source": [
    "Mealy machine that output 2's complement of a binary number"
   ]
  },
  {
   "cell_type": "code",
   "execution_count": 5,
   "metadata": {},
   "outputs": [],
   "source": [
    "def complement(str):\n",
    "    dfa = {'q0':{'0':{'output':0,'state':'q0'},'1':{'output':1,'state':'q1'}},'q1':{'0':{'output':1,'state':'q1'},'1':{'output':0,'state':'q1'}}}\n",
    "    str1=str[::-1]\n",
    "    cs='q0'\n",
    "    co1=[]\n",
    "    for i in str1:\n",
    "        co = dfa[cs][i]['output']\n",
    "        co1.append(co)\n",
    "        cs=dfa[cs][i]['state']\n",
    "    def Reverse(lst): \n",
    "        lst.reverse() \n",
    "        return lst \n",
    "    print(\"current output:\")\n",
    "    Reverse(co1)\n",
    "    for i in co1: \n",
    "        print(i, end=\"\")\n"
   ]
  },
  {
   "cell_type": "code",
   "execution_count": 6,
   "metadata": {},
   "outputs": [
    {
     "name": "stdout",
     "output_type": "stream",
     "text": [
      "current output:\n",
      "10011"
     ]
    }
   ],
   "source": [
    "complement(\"01101\")"
   ]
  },
  {
   "cell_type": "code",
   "execution_count": 7,
   "metadata": {},
   "outputs": [
    {
     "name": "stdout",
     "output_type": "stream",
     "text": [
      "current output:\n",
      "01010100"
     ]
    }
   ],
   "source": [
    "complement(\"10101100\")"
   ]
  },
  {
   "cell_type": "markdown",
   "metadata": {},
   "source": [
    "Mealy machine that increment a binary number by 1\n"
   ]
  },
  {
   "cell_type": "code",
   "execution_count": 8,
   "metadata": {},
   "outputs": [],
   "source": [
    "def increment(str):\n",
    "    dfa = {'q0':{'0':{'output':1,'state':'q1'},'1':{'output':0,'state':'q0'}},'q1':{'0':{'output':0,'state':'q1'},'1':{'output':1,'state':'q1'}}}\n",
    "    str1=str[::-1]\n",
    "    cs='q0'\n",
    "    co1=[]\n",
    "    for i in str1:\n",
    "        co = dfa[cs][i]['output']\n",
    "        co1.append(co)\n",
    "        cs=dfa[cs][i]['state']\n",
    "    def Reverse(lst): \n",
    "        lst.reverse() \n",
    "        return lst \n",
    "    print(\"output:\")\n",
    "    Reverse(co1)\n",
    "    for i in co1: \n",
    "        print(i, end=\"\")"
   ]
  },
  {
   "cell_type": "code",
   "execution_count": 9,
   "metadata": {},
   "outputs": [
    {
     "name": "stdout",
     "output_type": "stream",
     "text": [
      "output:\n",
      "101101"
     ]
    }
   ],
   "source": [
    "increment(\"101100\")"
   ]
  },
  {
   "cell_type": "code",
   "execution_count": null,
   "metadata": {},
   "outputs": [],
   "source": [
    "increment(\"\")"
   ]
  }
 ],
 "metadata": {
  "kernelspec": {
   "display_name": "Python 3",
   "language": "python",
   "name": "python3"
  },
  "language_info": {
   "codemirror_mode": {
    "name": "ipython",
    "version": 3
   },
   "file_extension": ".py",
   "mimetype": "text/x-python",
   "name": "python",
   "nbconvert_exporter": "python",
   "pygments_lexer": "ipython3",
   "version": "3.7.3"
  }
 },
 "nbformat": 4,
 "nbformat_minor": 4
}
