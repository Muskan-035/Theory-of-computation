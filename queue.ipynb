{
 "cells": [
  {
   "cell_type": "markdown",
   "metadata": {},
   "source": [
    "write  a program for queue implementation"
   ]
  },
  {
   "cell_type": "code",
   "execution_count": null,
   "metadata": {},
   "outputs": [
    {
     "name": "stdout",
     "output_type": "stream",
     "text": [
      "enter your choice: \n",
      "0-exit \n",
      "1-insert \n",
      "2-delete\n"
     ]
    },
    {
     "name": "stdin",
     "output_type": "stream",
     "text": [
      " 1\n"
     ]
    },
    {
     "name": "stdout",
     "output_type": "stream",
     "text": [
      "Enter number to be inserted:\n"
     ]
    },
    {
     "name": "stdin",
     "output_type": "stream",
     "text": [
      " 30\n"
     ]
    },
    {
     "name": "stdout",
     "output_type": "stream",
     "text": [
      "['30']\n",
      "enter your choice: 0-exit 1-insert 2-delete\n"
     ]
    },
    {
     "name": "stdin",
     "output_type": "stream",
     "text": [
      " 1\n"
     ]
    },
    {
     "name": "stdout",
     "output_type": "stream",
     "text": [
      "Enter number to be inserted:\n"
     ]
    },
    {
     "name": "stdin",
     "output_type": "stream",
     "text": [
      " 40\n"
     ]
    },
    {
     "name": "stdout",
     "output_type": "stream",
     "text": [
      "['30', '40']\n",
      "enter your choice: 0-exit 1-insert 2-delete\n"
     ]
    },
    {
     "name": "stdin",
     "output_type": "stream",
     "text": [
      " 1\n"
     ]
    },
    {
     "name": "stdout",
     "output_type": "stream",
     "text": [
      "Enter number to be inserted:\n"
     ]
    },
    {
     "name": "stdin",
     "output_type": "stream",
     "text": [
      " 50\n"
     ]
    },
    {
     "name": "stdout",
     "output_type": "stream",
     "text": [
      "['30', '40', '50']\n",
      "enter your choice: 0-exit 1-insert 2-delete\n"
     ]
    },
    {
     "name": "stdin",
     "output_type": "stream",
     "text": [
      " 2\n"
     ]
    },
    {
     "name": "stdout",
     "output_type": "stream",
     "text": [
      "element deleted: 30\n",
      "enter your choice: 0-exit 1-insert 2-delete\n"
     ]
    }
   ],
   "source": [
    "class Queue:\n",
    "    def __init__(self):\n",
    "        self.a=[]\n",
    "    def enqueue(self,i):\n",
    "        self.a.append(i)\n",
    "        print(self.a)\n",
    "    def delete(self):\n",
    "        if (len(self.a)==0):\n",
    "            print(\"queue is empty\")\n",
    "        else:\n",
    "            return self.a.pop(0)\n",
    "q=Queue()\n",
    "print(\"enter your choice: \\n0-exit \\n1-insert \\n2-delete\")\n",
    "ch=int(input())\n",
    "while ch!=0:\n",
    "    if (ch==1):\n",
    "        print(\"Enter number to be inserted:\")\n",
    "        j=input()\n",
    "        q.enqueue(j)\n",
    "    else:\n",
    "        print(\"element deleted: \"+q.delete())\n",
    "    print(\"enter your choice: 0-exit 1-insert 2-delete\")\n",
    "    ch=int(input())\n"
   ]
  },
  {
   "cell_type": "markdown",
   "metadata": {},
   "source": [
    "write a program for double queue implementation"
   ]
  },
  {
   "cell_type": "code",
   "execution_count": null,
   "metadata": {},
   "outputs": [],
   "source": []
  }
 ],
 "metadata": {
  "kernelspec": {
   "display_name": "Python 3",
   "language": "python",
   "name": "python3"
  },
  "language_info": {
   "codemirror_mode": {
    "name": "ipython",
    "version": 3
   },
   "file_extension": ".py",
   "mimetype": "text/x-python",
   "name": "python",
   "nbconvert_exporter": "python",
   "pygments_lexer": "ipython3",
   "version": "3.7.3"
  }
 },
 "nbformat": 4,
 "nbformat_minor": 4
}
